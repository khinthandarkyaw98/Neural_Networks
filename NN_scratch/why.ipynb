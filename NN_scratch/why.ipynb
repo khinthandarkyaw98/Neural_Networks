{
 "cells": [
  {
   "attachments": {},
   "cell_type": "markdown",
   "metadata": {},
   "source": [
    "### Why do we have only one bias?"
   ]
  },
  {
   "attachments": {},
   "cell_type": "markdown",
   "metadata": {},
   "source": [
    "<img width=\"200\" alt=\"a single neurong with 3 inputs\" src=\"Image/1.png\">"
   ]
  },
  {
   "attachments": {},
   "cell_type": "markdown",
   "metadata": {},
   "source": [
    "<img width=\"600\" alt=\"a single neuron with 3 inputs explanation\" src=\"Image/2.png\">"
   ]
  },
  {
   "attachments": {},
   "cell_type": "markdown",
   "metadata": {},
   "source": [
    "<p align=\"justify\">So, it is intuitive that a single neuron must have only a single bias regardless of many inputs.<br> If there are 4 inputs, there must be 4 weights.</p>"
   ]
  },
  {
   "attachments": {},
   "cell_type": "markdown",
   "metadata": {},
   "source": [
    "For nn_2.py, 3 Neurons(outputs) with 4 inputs are as follows.\n",
    "<img width=\"200\" alt=\"3 Neurons with 4 inputs\" src=\"Image/3.png\">"
   ]
  },
  {
   "attachments": {},
   "cell_type": "markdown",
   "metadata": {},
   "source": [
    "For the above picture, each neuron has its own weight set and unique bias as shown below."
   ]
  },
  {
   "attachments": {},
   "cell_type": "markdown",
   "metadata": {},
   "source": [
    "<img width=\"200\" alt=\"3 Neurons with 4 inputs and one bias for each neuron\" src=\"Image/4.png\">"
   ]
  },
  {
   "attachments": {},
   "cell_type": "markdown",
   "metadata": {},
   "source": [
    "<img width=\"500\" alt=\"3 Neurons with 4 inputs explanation\" src=\"Image/5.png\">"
   ]
  },
  {
   "attachments": {},
   "cell_type": "markdown",
   "metadata": {},
   "source": [
    "#### **Important!**"
   ]
  },
  {
   "attachments": {},
   "cell_type": "markdown",
   "metadata": {},
   "source": [
    "<p align=\"justify\">The inputs cannot be altered.<br>For this reason, weights and biases must be tweaked to get the desired output.</p>"
   ]
  }
 ],
 "metadata": {
  "language_info": {
   "name": "python"
  },
  "orig_nbformat": 4
 },
 "nbformat": 4,
 "nbformat_minor": 2
}
