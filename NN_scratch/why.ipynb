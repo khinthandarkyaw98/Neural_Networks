{
 "cells": [
  {
   "attachments": {},
   "cell_type": "markdown",
   "metadata": {},
   "source": [
    "### Why do we have only one bias?"
   ]
  },
  {
   "attachments": {},
   "cell_type": "markdown",
   "metadata": {},
   "source": [
    "<img width=\"200\" alt=\"a single neurong with 3 inputs\" src=\"Image/1.png\">"
   ]
  },
  {
   "attachments": {},
   "cell_type": "markdown",
   "metadata": {},
   "source": [
    "<img width=\"600\" alt=\"a single neuron with 3 inputs explanation\" src=\"Image/2.png\">"
   ]
  },
  {
   "attachments": {},
   "cell_type": "markdown",
   "metadata": {},
   "source": [
    "<p align=\"justify\">So, it is intuitive that a single neuron must have only a single bias regardless of many inputs.<br> If there are 4 inputs, there must be 4 weights.</p>"
   ]
  },
  {
   "attachments": {},
   "cell_type": "markdown",
   "metadata": {},
   "source": [
    "For nn_2.py, 3 Neurons(outputs) with 4 inputs are as follows.\n",
    "<img width=\"200\" alt=\"3 Neurons with 4 inputs\" src=\"Image/3.png\">"
   ]
  },
  {
   "attachments": {},
   "cell_type": "markdown",
   "metadata": {},
   "source": [
    "For the above picture, each neuron has its own weight set and unique bias as shown below."
   ]
  },
  {
   "attachments": {},
   "cell_type": "markdown",
   "metadata": {},
   "source": [
    "<img width=\"200\" alt=\"3 Neurons with 4 inputs and one bias for each neuron\" src=\"Image/4.png\">"
   ]
  },
  {
   "attachments": {},
   "cell_type": "markdown",
   "metadata": {},
   "source": [
    "<img width=\"500\" alt=\"3 Neurons with 4 inputs explanation\" src=\"Image/5.png\">"
   ]
  },
  {
   "attachments": {},
   "cell_type": "markdown",
   "metadata": {},
   "source": [
    "#### **Important!**"
   ]
  },
  {
   "attachments": {},
   "cell_type": "markdown",
   "metadata": {},
   "source": [
    "<p align=\"justify\">The inputs cannot be altered.<br>For this reason, weights and biases must be tweaked to get the desired output.</p>"
   ]
  },
  {
   "attachments": {},
   "cell_type": "markdown",
   "metadata": {},
   "source": [
    "So, the weight is trying to change the magnitude of the input and the bias is offsetting it. This is not different form $y = mx + c$ (line_equation). So basically, even if weights or inputs are in negative values, the bias will offset those to retrieve positive values. Intutively, you can figure this out."
   ]
  },
  {
   "attachments": {},
   "cell_type": "markdown",
   "metadata": {},
   "source": [
    "### **Let's talk about Shapes!**"
   ]
  },
  {
   "attachments": {},
   "cell_type": "markdown",
   "metadata": {},
   "source": [
    "<img alt=\"1D array, vector\" src=\"Image/6.png\">"
   ]
  },
  {
   "attachments": {},
   "cell_type": "markdown",
   "metadata": {},
   "source": [
    "<p align=\"center\">A list in python = 1D array in numpy = Vector in Mathematics</p>"
   ]
  },
  {
   "attachments": {},
   "cell_type": "markdown",
   "metadata": {},
   "source": [
    "<img alt=\"2D array, Matrix\" src=\"Image/7.png\">"
   ]
  },
  {
   "attachments": {},
   "cell_type": "markdown",
   "metadata": {},
   "source": [
    "<p align=\"center\">A list of list in python = 2D array in numpy = Matrix in Mathematics</p>"
   ]
  },
  {
   "attachments": {},
   "cell_type": "markdown",
   "metadata": {},
   "source": [
    "In other words, a list of vectors is a matrix."
   ]
  },
  {
   "attachments": {},
   "cell_type": "markdown",
   "metadata": {},
   "source": [
    "<img alt=\"3D array, a list of list of lists\" src=\"Image/8.png\">"
   ]
  },
  {
   "attachments": {},
   "cell_type": "markdown",
   "metadata": {},
   "source": [
    "<p align=\"center\">A list of lists of lists = 3D array</p>"
   ]
  },
  {
   "attachments": {},
   "cell_type": "markdown",
   "metadata": {},
   "source": [
    "#### **Tensor**"
   ]
  },
  {
   "attachments": {},
   "cell_type": "markdown",
   "metadata": {},
   "source": [
    "<p align=\"justify\">A tensor is an object which can be represented as an array.</p>"
   ]
  }
 ],
 "metadata": {
  "language_info": {
   "name": "python"
  },
  "orig_nbformat": 4
 },
 "nbformat": 4,
 "nbformat_minor": 2
}
